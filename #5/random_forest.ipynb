{
 "cells": [
  {
   "cell_type": "code",
   "execution_count": 87,
   "metadata": {},
   "outputs": [],
   "source": [
    "import matplotlib.pyplot as plt\n",
    "%matplotlib inline\n",
    "\n",
    "from matplotlib.colors import ListedColormap\n",
    "from sklearn import datasets\n",
    "from sklearn.model_selection import train_test_split\n",
    "\n",
    "import numpy as np\n",
    "import ipywidgets as widgets"
   ]
  },
  {
   "cell_type": "markdown",
   "metadata": {},
   "source": [
    "$$\\text{Leaf}$$"
   ]
  },
  {
   "cell_type": "code",
   "execution_count": 88,
   "metadata": {
    "jupyter": {
     "source_hidden": true
    }
   },
   "outputs": [],
   "source": [
    "class Leaf:\n",
    "    def __init__(self, data, labels):\n",
    "        self.data = data\n",
    "        self.labels = labels\n",
    "        self.leaf_label = None\n",
    "        self.prediction = self.predict()\n",
    "\n",
    "    def predict(self):\n",
    "        if self.leaf_label is None:            \n",
    "            classes = {}\n",
    "            for label in self.labels:\n",
    "                if label not in classes:\n",
    "                    classes[label] = 1\n",
    "                else:\n",
    "                    classes[label] += 1\n",
    "            self.leaf_label = max(classes, key=classes.get)    \n",
    "        return self.leaf_label"
   ]
  },
  {
   "cell_type": "markdown",
   "metadata": {},
   "source": [
    "$$\\text{Node}$$"
   ]
  },
  {
   "cell_type": "code",
   "execution_count": 89,
   "metadata": {
    "jupyter": {
     "source_hidden": true
    },
    "tags": []
   },
   "outputs": [],
   "source": [
    "class Node:\n",
    "    def __init__(self, index, t, true_branch, false_branch):\n",
    "        self.index = index\n",
    "        self.t = t\n",
    "        self.true_branch = true_branch\n",
    "        self.false_branch = false_branch\n"
   ]
  },
  {
   "cell_type": "markdown",
   "metadata": {},
   "source": [
    "$$\\text{Decision Tree}$$"
   ]
  },
  {
   "cell_type": "code",
   "execution_count": 90,
   "metadata": {
    "jupyter": {
     "source_hidden": true
    },
    "tags": []
   },
   "outputs": [],
   "source": [
    "class Decision_Tree_Classifier:\n",
    "    def __init__(self, criterion='gini', max_depth = None, min_samples_leaf = 1,\n",
    "                 min_impurity_decrease = 0.0, homogeneous_leaf = True):\n",
    "        self.criterion = criterion\n",
    "        self.max_depth = max_depth\n",
    "        self.min_samples_leaf = min_samples_leaf\n",
    "        self.min_impurity_decrease = min_impurity_decrease\n",
    "        self.homogeneous_leaf = homogeneous_leaf\n",
    "        self.current_depth = 0\n",
    "        \n",
    "    def informative_criteria(self, labels):\n",
    "        classes = {}\n",
    "        diff = 1e-17\n",
    "        for label in labels:\n",
    "            if label not in classes:\n",
    "                classes[label] = 1\n",
    "            else:\n",
    "                classes[label] += 1\n",
    "        \n",
    "        if self.criterion == 'gini':            \n",
    "            impurity = 1\n",
    "            for label in classes:\n",
    "                p = classes[label] / len(labels)\n",
    "                impurity -= p**2            \n",
    "        elif self.criterion == 'shenon':\n",
    "            impurity = 0\n",
    "            for label in classes:\n",
    "                p = classes[label]/ len(labels)\n",
    "                if p == 0:\n",
    "                    p = diff\n",
    "                impurity -= p * np.log2(p)\n",
    "        return impurity\n",
    "    \n",
    "    def quality(self, left_labels, right_labels, current_information):\n",
    "        p = float(left_labels.shape[0]) / (left_labels.shape[0] + right_labels.shape[0])\n",
    "        \n",
    "        return current_information - p * self.informative_criteria(left_labels) - (1 - p) * self.informative_criteria(right_labels)\n",
    "    \n",
    "    def fit(self, data, labels):\n",
    "        self.tree = self.build_tree(data, labels)\n",
    "        \n",
    "    def build_tree(self, data, labels):        \n",
    "        quality, t, idx = self.find_best_split(data, labels)\n",
    "        \n",
    "        if quality == 0 or (len(set(labels)) == 1 and homogeneous_leaf):\n",
    "            return Leaf(data, labels)\n",
    "        \n",
    "        self.current_depth += 1\n",
    "        \n",
    "        true_data, false_data, true_labels, false_labels = self.split(data, labels, idx, t)\n",
    "        \n",
    "        if self.current_depth == self.max_depth:\n",
    "            true_branch = Leaf(true_data, true_labels)\n",
    "            false_branch = Leaf(false_data, false_labels)\n",
    "            self.current_depth -= 1\n",
    "            \n",
    "        else:\n",
    "            true_branch = self.build_tree(true_data, true_labels)\n",
    "            false_branch = self.build_tree(false_data, false_labels)\n",
    "        \n",
    "        return Node(idx, t, true_branch, false_branch)\n",
    "    \n",
    "    def split(self, data, labels, idx, t):\n",
    "        left_mask = data[:, idx] <= t\n",
    "        \n",
    "        true_data = data[left_mask]        \n",
    "        true_labels = labels[left_mask]\n",
    "        \n",
    "        false_data = data[~left_mask]\n",
    "        false_labels = labels[~left_mask]\n",
    "        \n",
    "        return true_data, false_data, true_labels, false_labels\n",
    "\n",
    "    def find_best_split(self, data, labels):\n",
    "        current_information = self.informative_criteria(labels)\n",
    "        \n",
    "        best_quality = 0\n",
    "        best_t = None\n",
    "        best_idx = None\n",
    "        \n",
    "        n_features = data.shape[1]\n",
    "        \n",
    "        for idx in range(n_features):\n",
    "            t_values = np.unique(data[:, idx])\n",
    "            \n",
    "            for t in t_values:\n",
    "                true_data, false_data, true_labels, false_labels = self.split(data, labels, idx, t)\n",
    "                \n",
    "                if len(true_data) < self.min_samples_leaf or len(false_data) < self.min_samples_leaf:\n",
    "                    continue\n",
    "                \n",
    "                current_quality = self.quality(true_labels, false_labels, current_information)\n",
    "                \n",
    "                if current_quality > best_quality and abs(current_quality - best_quality) > self.min_impurity_decrease:\n",
    "                    best_quality, best_t, best_idx = current_quality, t, idx\n",
    "                \n",
    "        return best_quality, best_t, best_idx\n",
    "    \n",
    "    def classify_object(self, obj, node):\n",
    "        if isinstance(node, Leaf):\n",
    "            return node.prediction\n",
    "        \n",
    "        if obj[node.index] <= node.t:\n",
    "            return self.classify_object(obj, node.true_branch)\n",
    "        else:\n",
    "            return self.classify_object(obj, node.false_branch)\n",
    "        \n",
    "    def predict(self, data):\n",
    "        classes = np.zeros(len(data))\n",
    "        for i, obj in enumerate(data):\n",
    "            classes[i] = self.classify_object(obj, self.tree)\n",
    "        return classes\n",
    "            "
   ]
  },
  {
   "cell_type": "markdown",
   "metadata": {},
   "source": [
    "$$\\text{Random Forest}$$"
   ]
  },
  {
   "cell_type": "code",
   "execution_count": 97,
   "metadata": {
    "jupyter": {
     "source_hidden": true
    },
    "tags": []
   },
   "outputs": [],
   "source": [
    "class RandomForest(Decision_Tree_Classifier):\n",
    "    \n",
    "    def __init__(self, n_tree = 1, criterion='gini', max_depth = None, min_samples_leaf = 1, min_impurity_decrease = 0.0, homogeneous_leaf = True):        \n",
    "        super().__init__(criterion, max_depth, min_samples_leaf, min_impurity_decrease, homogeneous_leaf)\n",
    "        self.n_tree = n_tree\n",
    "        np.random.seed(42)\n",
    "    \n",
    "    \n",
    "    def get_bootstrap(self, data, labels):\n",
    "        n_samples = data.shape[0]\n",
    "        bootstrap = []\n",
    "        \n",
    "        for i in range(self.n_tree):            \n",
    "            sample_idxs = np.random.randint(0, n_samples, n_samples)\n",
    "            b_data = data[sample_idxs]\n",
    "            b_labels = labels[sample_idxs]\n",
    "            bootstrap.append((b_data, b_labels, sample_idxs))\n",
    "            \n",
    "        return bootstrap\n",
    "    \n",
    "    \n",
    "    def get_subsample(self, n_features):        \n",
    "        sample_idxs = np.arange(0, n_features)\n",
    "        np.random.shuffle(sample_idxs)\n",
    "        \n",
    "        subsample_len = int(np.sqrt(n_features))\n",
    "        subsample = sample_idxs[:subsample_len]       \n",
    "        \n",
    "        return subsample     \n",
    "     \n",
    "        \n",
    "    def find_best_split(self, data, labels):\n",
    "        current_information = self.informative_criteria(labels)\n",
    "        \n",
    "        best_quality = 0\n",
    "        best_t = None\n",
    "        best_idx = None\n",
    "        \n",
    "        n_features = data.shape[1]\n",
    "        \n",
    "        subsample = self.get_subsample(n_features)\n",
    "        \n",
    "        for idx in subsample:\n",
    "            t_values = np.unique(data[:, idx])\n",
    "            \n",
    "            for t in t_values:\n",
    "                true_data, false_data, true_labels, false_labels = self.split(data, labels, idx, t)\n",
    "                \n",
    "                if len(true_data) < self.min_samples_leaf or len(false_data) < self.min_samples_leaf:\n",
    "                    continue\n",
    "                \n",
    "                current_quality = self.quality(true_labels, false_labels, current_information)\n",
    "                \n",
    "                if current_quality > best_quality and abs(current_quality - best_quality) > self.min_impurity_decrease:\n",
    "                    best_quality, best_t, best_idx = current_quality, t, idx\n",
    "                \n",
    "        return best_quality, best_t, best_idx\n",
    "    \n",
    "    \n",
    "    def fit(self, data, labels):\n",
    "        self.forest = []\n",
    "        for b_data, b_labels, idx in self.get_bootstrap(data, labels):\n",
    "            self.forest.append([self.build_tree(b_data, b_labels), idx])\n",
    "        self.forest = np.array(self.forest, dtype=object)\n",
    "        \n",
    "    def oob(self, data, labels, flag):\n",
    "        \"\"\"\n",
    "        flag = 'train' или 'test'\n",
    "        data - исходные данные\n",
    "        \"\"\"\n",
    "        n_obj = data.shape[0]\n",
    "        predictions = np.zeros(labels.shape[0])\n",
    "        if flag == 'train':            \n",
    "            for obj in range(n_obj):\n",
    "                tmp_pred = []\n",
    "                for tree, idx in self.forest:\n",
    "                    if obj in idx:\n",
    "                        tmp_pred.append(super().classify_object(data[obj], tree))\n",
    "                if len(tmp_pred) < 1:\n",
    "                    predictions[obj] = None\n",
    "                else:\n",
    "                    predictions[obj] = max(set(tmp_pred), key=tmp_pred.count)\n",
    "                \n",
    "        else:\n",
    "            for obj in range(n_obj):\n",
    "                tmp_pred = []\n",
    "                for tree, idx in self.forest:\n",
    "                    if obj not in idx:\n",
    "                        tmp_pred.append(super().classify_object(data[obj], tree))\n",
    "                if len(tmp_pred) < 1:\n",
    "                    predictions[obj] = None\n",
    "                else:\n",
    "                    predictions[obj] = max(set(tmp_pred), key=tmp_pred.count)\n",
    "        not_none_mask = predictions != None\n",
    "        \n",
    "        return sum(labels[not_none_mask] == predictions[not_none_mask])/sum(not_none_mask) * 100        \n",
    "    \n",
    "    def tree_vote(self, data):\n",
    "        predictions = []\n",
    "        for tree in self.forest[:, 0]:\n",
    "            predictions.append(self.predict(data, tree))\n",
    "            \n",
    "        predictions = list(zip(*predictions))\n",
    "        \n",
    "        voted_predictions = np.array([])\n",
    "        \n",
    "        #сначала выполняется счёт количества голосов, потом выбор наибольшего\n",
    "        for obj in predictions:\n",
    "            voted_predictions = np.append(voted_predictions, max(set(obj), key=obj.count))\n",
    "        return voted_predictions\n",
    "    \n",
    "    def predict(self, data, tree):\n",
    "        classes = np.zeros(len(data))\n",
    "        for i, obj in enumerate(data):\n",
    "            classes[i] = self.classify_object(obj, tree)\n",
    "        return classes\n",
    "        "
   ]
  },
  {
   "cell_type": "markdown",
   "metadata": {},
   "source": [
    "$$\\text{Accuracy}$$"
   ]
  },
  {
   "cell_type": "code",
   "execution_count": 92,
   "metadata": {
    "jupyter": {
     "source_hidden": true
    }
   },
   "outputs": [],
   "source": [
    "def accuracy_metric(actual, predicted):\n",
    "    correct = 0\n",
    "    for i in range(len(actual)):\n",
    "        if actual[i] == predicted[i]:\n",
    "            correct += 1\n",
    "    return correct / float(len(actual)) * 100.0"
   ]
  },
  {
   "cell_type": "markdown",
   "metadata": {},
   "source": [
    "$$\\text{Meshgrid}$$"
   ]
  },
  {
   "cell_type": "code",
   "execution_count": 93,
   "metadata": {
    "jupyter": {
     "source_hidden": true
    },
    "tags": []
   },
   "outputs": [],
   "source": [
    "def get_meshgrid(data, step=0.05, border=1.2):\n",
    "    x_min, x_max = data[:, 0].min() - border, data[:, 0].max() + border\n",
    "    y_min, y_max = data[:, 1].min() - border, data[:, 1].max() + border\n",
    "    return np.meshgrid(np.arange(x_min, x_max, step), np.arange(y_min, y_max, step))"
   ]
  },
  {
   "cell_type": "markdown",
   "metadata": {
    "tags": []
   },
   "source": [
    "### <b> Task №1"
   ]
  },
  {
   "cell_type": "code",
   "execution_count": 94,
   "metadata": {},
   "outputs": [],
   "source": [
    "classification_data, classification_labels = datasets.make_classification(n_samples=100,\n",
    "                                                      n_features = 2, n_informative = 2, \n",
    "                                                      n_classes = 2, n_redundant=0, \n",
    "                                                      n_clusters_per_class=1, random_state=23)"
   ]
  },
  {
   "cell_type": "code",
   "execution_count": 98,
   "metadata": {},
   "outputs": [],
   "source": [
    "train_data, test_data, train_labels, test_labels = train_test_split(classification_data, \n",
    "                                                                     classification_labels, \n",
    "                                                                     test_size = 0.3,\n",
    "                                                                     random_state = 1)\n",
    "\n",
    "global train_data, train_labels, test_data, test_labels"
   ]
  },
  {
   "cell_type": "code",
   "execution_count": 102,
   "metadata": {
    "tags": []
   },
   "outputs": [
    {
     "data": {
      "application/vnd.jupyter.widget-view+json": {
       "model_id": "226d2cfb11984a17b34319071c5f2696",
       "version_major": 2,
       "version_minor": 0
      },
      "text/plain": [
       "interactive(children=(IntSlider(value=1, description='n_trees', max=250, min=1), IntSlider(value=3, descriptio…"
      ]
     },
     "metadata": {},
     "output_type": "display_data"
    }
   ],
   "source": [
    "def plot_hp_trees(n_trees = 1, max_depth = 3, min_samples_leaf = 5, criterion = 'gini'):\n",
    "    my_forest = RandomForest(n_trees, criterion, max_depth, min_samples_leaf)\n",
    "    my_forest.fit(train_data, train_labels)\n",
    "    \n",
    "    train_answers = my_forest.tree_vote(train_data)\n",
    "    test_answers = my_forest.tree_vote(test_data)\n",
    "    \n",
    "    train_accuracy = accuracy_metric(train_labels, train_answers)\n",
    "    test_accuracy = accuracy_metric(test_labels, test_answers)\n",
    "    \n",
    "    plt.figure(figsize = (20, 7))\n",
    "    \n",
    "    plt.subplot(1,2,1)\n",
    "    xx, yy = get_meshgrid(train_data)\n",
    "    mesh_predictions = np.array(my_forest.tree_vote(np.c_[xx.ravel(), yy.ravel()])).reshape(xx.shape)\n",
    "    plt.pcolormesh(xx, yy, mesh_predictions, cmap = light_colors)\n",
    "    plt.scatter(train_data[:, 0], train_data[:, 1], c = train_labels, cmap = colors)\n",
    "    plt.title(f'Train accuracy={train_accuracy:.2f}, n_trees = {n_trees}, max_d = {max_depth}, min_s = {min_samples_leaf}, cr = {criterion}')\n",
    "\n",
    "    plt.subplot(1,2,2)\n",
    "    plt.pcolormesh(xx, yy, mesh_predictions, cmap = light_colors)\n",
    "    plt.scatter(test_data[:, 0], test_data[:, 1], c = test_labels, cmap = colors)\n",
    "    plt.title(f'Test accuracy={test_accuracy:.2f}, n_trees = {n_trees}, max_d = {max_depth}, min_s = {min_samples_leaf}, cr = {criterion}')\n",
    "    plt.show()\n",
    "    \n",
    "widgets.interact(plot_hp_trees, n_trees = (1, 250, 1), max_depth = (3, 15, 1), min_samples_leaf = (1, 20, 1), criterion = ['gini', 'shenon']);\n",
    "    \n",
    "    \n",
    "    "
   ]
  },
  {
   "cell_type": "markdown",
   "metadata": {},
   "source": [
    "* Можно заключить, что ситуация с переобучением действительно редкость для случайного леса (переобучение можно увидеть при параметрах <b>n_trees</b> = 8, <b>max_depth</b> = 3, <b>min_samples_leaf</b> = 1, <b>criterion</b> = 'gini')\n",
    "* При увеличении параметра <b>n_trees</b> можно увидеть флуктуации метрики (на графиках ниже), но чем больше этот параметр, тем все реже эти колебания происходят."
   ]
  },
  {
   "cell_type": "code",
   "execution_count": 54,
   "metadata": {
    "collapsed": true,
    "jupyter": {
     "outputs_hidden": true,
     "source_hidden": true
    },
    "tags": []
   },
   "outputs": [
    {
     "data": {
      "image/png": "[encoded data removed]",
      "text/plain": [
       "<Figure size 720x504 with 1 Axes>"
      ]
     },
     "metadata": {
      "needs_background": "light"
     },
     "output_type": "display_data"
    }
   ],
   "source": [
    "N = 250\n",
    "accuracy_train_list = np.zeros(N)\n",
    "accuracy_test_list = np.zeros(N)\n",
    "for n_trees in range(1, N+1):\n",
    "    my_forest = RandomForest(n_trees)\n",
    "    my_forest.fit(train_data, train_labels)\n",
    "    \n",
    "    train_answers = my_forest.tree_vote(train_data)\n",
    "    test_answers = my_forest.tree_vote(test_data)\n",
    "    \n",
    "    accuracy_train_list[n_trees-1] = accuracy_metric(train_labels, train_answers)\n",
    "    accuracy_test_list[n_trees-1] = test_accuracy = accuracy_metric(test_labels, test_answers)\n",
    "    \n",
    "plt.figure(figsize = (10, 7))\n",
    "plt.plot(np.arange(1, N+1), accuracy_train_list, label = 'Train accuracy', color = '#FF1493')\n",
    "plt.plot(np.arange(1, N+1), accuracy_test_list, label = 'Test accuracy', color = '#00FFFF')\n",
    "\n",
    "plt.xlabel('n_trees')\n",
    "plt.ylabel('Accuracy')\n",
    "plt.legend()\n",
    "plt.show()\n",
    "\n",
    "    "
   ]
  },
  {
   "cell_type": "markdown",
   "metadata": {},
   "source": [
    "### <b> Task №2"
   ]
  },
  {
   "cell_type": "code",
   "execution_count": 82,
   "metadata": {},
   "outputs": [],
   "source": [
    "n_trees = 10\n",
    "my_forest = RandomForest(10)\n",
    "my_forest.fit(classification_data, classification_labels)"
   ]
  },
  {
   "cell_type": "code",
   "execution_count": 83,
   "metadata": {},
   "outputs": [
    {
     "name": "stdout",
     "output_type": "stream",
     "text": [
      "100.0 88.0\n"
     ]
    }
   ],
   "source": [
    "\n",
    "train_accuracy = my_forest.oob(classification_data, classification_labels, 'train')\n",
    "test_accuracy = my_forest.oob(classification_data, classification_labels, 'test')\n",
    "\n",
    "print(train_accuracy, test_accuracy)"
   ]
  },
  {
   "cell_type": "code",
   "execution_count": 84,
   "metadata": {},
   "outputs": [
    {
     "data": {
      "text/plain": [
       "100.0"
      ]
     },
     "execution_count": 84,
     "metadata": {},
     "output_type": "execute_result"
    }
   ],
   "source": [
    "train_accuracy"
   ]
  },
  {
   "cell_type": "code",
   "execution_count": 85,
   "metadata": {},
   "outputs": [
    {
     "data": {
      "text/plain": [
       "88.0"
      ]
     },
     "execution_count": 85,
     "metadata": {},
     "output_type": "execute_result"
    }
   ],
   "source": [
    "test_accuracy"
   ]
  },
  {
   "cell_type": "code",
   "execution_count": null,
   "metadata": {},
   "outputs": [],
   "source": []
  }
 ],
 "metadata": {
  "kernelspec": {
   "display_name": "Python 3",
   "language": "python",
   "name": "python3"
  },
  "language_info": {
   "codemirror_mode": {
    "name": "ipython",
    "version": 3
   },
   "file_extension": ".py",
   "mimetype": "text/x-python",
   "name": "python",
   "nbconvert_exporter": "python",
   "pygments_lexer": "ipython3",
   "version": "3.8.5"
  }
 },
 "nbformat": 4,
 "nbformat_minor": 4
}
