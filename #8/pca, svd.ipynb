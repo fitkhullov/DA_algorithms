{
 "cells": [
  {
   "cell_type": "code",
   "execution_count": 22,
   "id": "3dc49e82-4306-48e7-be90-7c252a7c69ca",
   "metadata": {},
   "outputs": [],
   "source": [
    "import numpy as np\n",
    "import matplotlib.pyplot as plt\n",
    "\n",
    "from sklearn import datasets\n",
    "from sklearn import model_selection"
   ]
  },
  {
   "cell_type": "markdown",
   "id": "5451cb74-996c-4ed8-bf5e-6c70623aaa30",
   "metadata": {},
   "source": [
    "$$\\text{PCA}$$"
   ]
  },
  {
   "cell_type": "code",
   "execution_count": 2,
   "id": "1fe715bc-b3d2-4942-ab26-4848953e0b7a",
   "metadata": {
    "jupyter": {
     "source_hidden": true
    },
    "tags": []
   },
   "outputs": [],
   "source": [
    "def pca(X, n):\n",
    "    U, s, V = np.linalg.svd(X)\n",
    "    \n",
    "    W = V[:n, :].T\n",
    "    \n",
    "    Z = X@W\n",
    "    \n",
    "    return Z, W"
   ]
  },
  {
   "cell_type": "markdown",
   "id": "c9c997fb-c690-499d-bf82-0c8ddee67647",
   "metadata": {},
   "source": [
    "$$\\text{Standartization}$$"
   ]
  },
  {
   "cell_type": "code",
   "execution_count": 10,
   "id": "f1ada41c-9f6c-4eed-9ae8-f716d407dafd",
   "metadata": {
    "jupyter": {
     "source_hidden": true
    },
    "tags": []
   },
   "outputs": [],
   "source": [
    "def standartize(X):\n",
    "    return (X-X.mean(0))/X.std(0)"
   ]
  },
  {
   "cell_type": "markdown",
   "id": "c59f0640-09dc-427b-b542-b76950427f82",
   "metadata": {},
   "source": [
    "$$\\text{Euclidean metric}$$"
   ]
  },
  {
   "cell_type": "code",
   "execution_count": 20,
   "id": "46ee3d40-30f4-4fa2-a97b-13ee869b93e4",
   "metadata": {
    "jupyter": {
     "source_hidden": true
    },
    "tags": []
   },
   "outputs": [],
   "source": [
    "def e_metrics(x, y):    \n",
    "    return np.sqrt(np.sum(np.square(x-y)))"
   ]
  },
  {
   "cell_type": "markdown",
   "id": "34efc462-cffb-4bff-9f1f-42972a713ef4",
   "metadata": {},
   "source": [
    "$$\\text{Accuracy}$$"
   ]
  },
  {
   "cell_type": "code",
   "execution_count": 19,
   "id": "38e4c391-b415-4016-a91e-4ecf33fa67ba",
   "metadata": {
    "jupyter": {
     "source_hidden": true
    },
    "tags": []
   },
   "outputs": [],
   "source": [
    "def accuracy(pred, y):\n",
    "    return (sum(pred == y) / len(y))"
   ]
  },
  {
   "cell_type": "markdown",
   "id": "ed5897bd-0dad-4a6a-96f8-6e0ecfb6f66b",
   "metadata": {},
   "source": [
    "$$\\text{KNN}$$"
   ]
  },
  {
   "cell_type": "code",
   "execution_count": 18,
   "id": "0d51bb39-4790-4e9f-8d08-278fd3bcae05",
   "metadata": {
    "jupyter": {
     "source_hidden": true
    },
    "tags": []
   },
   "outputs": [],
   "source": [
    "class KNN():\n",
    "    def __init__(self, k = 1, w_type = 'distance', w_name = 'inverse', weighted = False):\n",
    "        self.k = k\n",
    "        self.weighted = weighted\n",
    "        self.w_type = w_type\n",
    "        self.w_name = w_name\n",
    "        \n",
    "    def fit_predict(self, X_train, X_test, y_train):\n",
    "        answers = np.zeros(X_test.shape[0])\n",
    "        labels = set(y_train)\n",
    "        \n",
    "        for i, x in enumerate(X_test):\n",
    "            \n",
    "            test_distances = np.zeros(X_train.shape[0], dtype='object')\n",
    "            \n",
    "            for j in range(X_train.shape[0]):\n",
    "                \n",
    "                distance = e_metrics(x, X_train[j])\n",
    "                test_distances[j] = (distance, y_train[j])\n",
    "                \n",
    "            classes = {class_label: 0 for class_label in labels}\n",
    "            neighbours = self.find_neighbours(test_distances)\n",
    "            if self.weighted:\n",
    "                weights = self.find_weights(neighbours)                \n",
    "            else:\n",
    "                weights = np.ones(len(neighbours))\n",
    "            for neighbour, w in zip(neighbours, weights):\n",
    "                    classes[neighbour[1]] += w\n",
    " \n",
    "            answers[i] = sorted(classes, key=classes.get)[-1]\n",
    "        return answers                \n",
    "            \n",
    "    def find_neighbours(self, distances):\n",
    "        \"\"\"\n",
    "        distanaces - list of tuples: [(dist, label), ...]\n",
    "        \"\"\"\n",
    "        z = 0\n",
    "        for i in range(self.k):\n",
    "            for j in range(len(distances)-1-z):\n",
    "                if distances[j][0] < distances[j+1][0]:\n",
    "                    distances[j], distances[j+1] = distances[j+1], distances[j]\n",
    "            z += 1\n",
    "        return distances[-self.k::][::-1]\n",
    "    \n",
    "    def find_weights(self, neighbours):\n",
    "        \"\"\"\n",
    "        distances - list of tuples: [(dist, label), ...]\n",
    "        \"\"\"\n",
    "        weights = np.zeros(self.k)\n",
    "        if self.w_type == 'distance':\n",
    "            if self.w_name == 'inverse':                \n",
    "                eps = 1e-15\n",
    "                for i, neighbour in enumerate(neighbours):\n",
    "                    weights[i] = 1/(neighbour[0]+eps)\n",
    "            elif self.w_name == 'geom':\n",
    "                q = 0.5\n",
    "                for i, neighbour in enumerate(neighbours):\n",
    "                    weights[i] = q**neighbour[0]\n",
    "                \n",
    "        elif self.w_type == 'ordinal':\n",
    "            if self.w_name == 'geom':\n",
    "                q = 0.5\n",
    "                for i in range(self.k):\n",
    "                    weights[i] = q**(i+1)\n",
    "                \n",
    "            elif self.w_name == 'pos':\n",
    "                for i in range(self.k):\n",
    "                    weights[i] = 1/(i+1)           \n",
    "        return weights"
   ]
  },
  {
   "cell_type": "markdown",
   "id": "b5acbab0-91f1-4aa3-b389-a648246ddaa7",
   "metadata": {},
   "source": [
    "### <b> Task №1, 2"
   ]
  },
  {
   "cell_type": "code",
   "execution_count": 23,
   "id": "c594f8ef-a401-4c74-9a17-5924c318b59f",
   "metadata": {},
   "outputs": [],
   "source": [
    "X, y = datasets.load_iris(return_X_y=True)\n",
    "X_st = standartize(X)"
   ]
  },
  {
   "cell_type": "code",
   "execution_count": 25,
   "id": "a7d392f4-ee9a-48d6-8ba1-710bbbfec73f",
   "metadata": {
    "collapsed": true,
    "jupyter": {
     "outputs_hidden": true,
     "source_hidden": true
    },
    "tags": []
   },
   "outputs": [
    {
     "data": {
      "image/png": "[encoded data removed]",
      "text/plain": [
       "<Figure size 432x288 with 1 Axes>"
      ]
     },
     "metadata": {
      "needs_background": "light"
     },
     "output_type": "display_data"
    }
   ],
   "source": [
    "plt.figure()\n",
    "y = iris.target\n",
    "for c, i in zip(\"rgb\", [0, 1, 2]):\n",
    "    plt.scatter(Z[y==i, 0], Z[y==i, 1], c=c)\n",
    "plt.xlabel('Главная компонента 1')\n",
    "plt.ylabel('Главная компонента 2')\n",
    "plt.title('PCA датасета IRIS')\n",
    "plt.show()"
   ]
  },
  {
   "cell_type": "markdown",
   "id": "412313ee-7bc5-4171-a8fe-66351f8051b7",
   "metadata": {},
   "source": [
    "### <b> Task №3"
   ]
  },
  {
   "cell_type": "code",
   "execution_count": 59,
   "id": "1d11f82f-cf1c-4a54-af3f-dc6b1c16f444",
   "metadata": {},
   "outputs": [],
   "source": [
    "X_train, X_test, y_train, y_test = model_selection.train_test_split(X_st, y, test_size=0.2, random_state=1)\n",
    "X_pca_train, X_pca_test, y_pca_train, y_pca_test = model_selection.train_test_split(pca(X_st, 2)[0], y, test_size=0.2, random_state=1)"
   ]
  },
  {
   "cell_type": "code",
   "execution_count": 61,
   "id": "49b5ab42-143a-4b02-9753-68c16f1c03d9",
   "metadata": {},
   "outputs": [
    {
     "data": {
      "text/plain": [
       "(1.0, 0.6)"
      ]
     },
     "execution_count": 61,
     "metadata": {},
     "output_type": "execute_result"
    }
   ],
   "source": [
    "knn_clf = KNN(k=100, w_type = 'ordinal', w_name = 'pos', weighted = True)\n",
    "knn_pca_clf = KNN(k=100)\n",
    "\n",
    "\n",
    "y_pred = knn_clf.fit_predict(X_train, X_test, y_train)\n",
    "y_pca_pred = knn_pca_clf.fit_predict(X_pca_train, X_pca_test, y_train)\n",
    "\n",
    "accuracy(y_pred, y_test), accuracy(y_pca_pred, y_pca_test)\n",
    "\n"
   ]
  },
  {
   "cell_type": "code",
   "execution_count": null,
   "id": "ae0c4e4c-7366-4efb-a6a8-663374ae317e",
   "metadata": {},
   "outputs": [],
   "source": []
  }
 ],
 "metadata": {
  "kernelspec": {
   "display_name": "Python 3",
   "language": "python",
   "name": "python3"
  },
  "language_info": {
   "codemirror_mode": {
    "name": "ipython",
    "version": 3
   },
   "file_extension": ".py",
   "mimetype": "text/x-python",
   "name": "python",
   "nbconvert_exporter": "python",
   "pygments_lexer": "ipython3",
   "version": "3.8.5"
  }
 },
 "nbformat": 4,
 "nbformat_minor": 5
}
